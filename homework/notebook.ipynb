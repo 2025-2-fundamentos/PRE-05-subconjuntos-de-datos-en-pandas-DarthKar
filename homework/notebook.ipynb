{
 "cells": [
  {
   "cell_type": "code",
   "execution_count": null,
   "id": "5b534ab1",
   "metadata": {},
   "outputs": [],
   "source": [
    "import pandas as pd  #  type: ignore\n",
    "\n",
    "pd.set_option(\"display.notebook_repr_html\", True)\n",
    "\n"
   ]
  },
  {
   "cell_type": "code",
   "execution_count": null,
   "id": "1c75fd4b",
   "metadata": {},
   "outputs": [],
   "source": [
    "\n",
    "# Carga del archivo desde un repo en GitHub\n",
    "truck_events = pd.read_csv(\"../files/input/truck_event_text_partition.csv\")\n",
    "\n",
    "# Cabecera del archivop\n",
    "truck_events.head()\n",
    "\n",
    "\n"
   ]
  },
  {
   "cell_type": "code",
   "execution_count": null,
   "id": "ebd53743",
   "metadata": {},
   "outputs": [],
   "source": [
    "# Obtención de un subconjunto de registros\n",
    "# truck_events_subset = truck_events.head(10) \n",
    "truck_events_subset = truck_events[0:10]\n",
    "truck_events_subset\n",
    "\n"
   ]
  },
  {
   "cell_type": "code",
   "execution_count": null,
   "id": "adbf7da7",
   "metadata": {},
   "outputs": [],
   "source": [
    "\n",
    "# Obtención de un subconjunto de columnas\n",
    "specific_columns = truck_events_subset[\n",
    "    [\"driverId\", \"eventTime\", \"eventType\"]\n",
    "]\n",
    "specific_columns\n",
    "\n",
    "\n"
   ]
  },
  {
   "cell_type": "code",
   "execution_count": null,
   "id": "35ccaf1f",
   "metadata": {},
   "outputs": [],
   "source": [
    "\n",
    "\n",
    "# Obtención de un subconjunto de filas y columnas\n",
    "new_sub_set = truck_events.loc[0:10, [\"driverId\", \"eventTime\", \"eventType\"]]\n",
    "new_sub_set\n",
    "\n"
   ]
  }
 ],
 "metadata": {
  "language_info": {
   "name": "python"
  }
 },
 "nbformat": 4,
 "nbformat_minor": 5
}
